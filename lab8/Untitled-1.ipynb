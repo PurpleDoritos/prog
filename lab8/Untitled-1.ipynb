{
 "cells": [
  {
   "cell_type": "code",
   "execution_count": null,
   "metadata": {
    "dotnet_interactive": {
     "language": "csharp"
    },
    "polyglot_notebook": {
     "kernelName": "csharp"
    }
   },
   "outputs": [],
   "source": []
  },
  {
   "cell_type": "markdown",
   "metadata": {},
   "source": [
    "int a = 5;\n",
    "string = \"abc\";\n",
    "double = 1.5;\n",
    "string = 'z';\n",
    "float = 1.6f;\n",
    "int[] = {3, 5, 6};\n",
    "string[] = new string[]{\"abc\"};\n"
   ]
  },
  {
   "cell_type": "code",
   "execution_count": 17,
   "metadata": {
    "dotnet_interactive": {
     "language": "csharp"
    },
    "polyglot_notebook": {
     "kernelName": "csharp"
    }
   },
   "outputs": [],
   "source": [
    "string[] menuString = { \"Fish and chips\", \"Chicken fried rice\", \"Vegetable fried rice\", \"Beef burger\", \"Chicken burger\", \"Fish burger\", \"Coca cola\", \"Fanta\", \"Sprite\" };\n",
    "\n",
    "\n",
    "\n"
   ]
  },
  {
   "cell_type": "code",
   "execution_count": 2,
   "metadata": {
    "dotnet_interactive": {
     "language": "csharp"
    },
    "polyglot_notebook": {
     "kernelName": "csharp"
    }
   },
   "outputs": [
    {
     "name": "stdout",
     "output_type": "stream",
     "text": [
      "Chicken burger\n"
     ]
    }
   ],
   "source": [
    "Console.WriteLine(menuString[4]);"
   ]
  },
  {
   "cell_type": "code",
   "execution_count": 8,
   "metadata": {
    "dotnet_interactive": {
     "language": "csharp"
    },
    "polyglot_notebook": {
     "kernelName": "csharp"
    }
   },
   "outputs": [
    {
     "name": "stdout",
     "output_type": "stream",
     "text": [
      "Sprite\n",
      "Fanta\n",
      "Coca cola\n",
      "Fish burger\n",
      "Chicken burger\n",
      "Beef burger\n",
      "Vegetabke fried rice\n",
      "Chicken fried rice\n",
      "Fish and chips\n"
     ]
    }
   ],
   "source": [
    "for (int i = menuString.Length - 1; i >= 0; i--)\n",
    "{\n",
    "    Console.WriteLine(menuString[i]);\n",
    "}"
   ]
  },
  {
   "cell_type": "code",
   "execution_count": 26,
   "metadata": {
    "dotnet_interactive": {
     "language": "csharp"
    },
    "polyglot_notebook": {
     "kernelName": "csharp"
    }
   },
   "outputs": [
    {
     "name": "stdout",
     "output_type": "stream",
     "text": [
      "Vegetable fried rice\n",
      "Coca cola\n",
      "Fanta\n",
      "Sprite\n"
     ]
    }
   ],
   "source": [
    "foreach (string menuItem in menuString)\n",
    "{\n",
    "    if (!menuItem.Contains(\"Chicken\") && !menuItem.Contains(\"burger\") && !menuItem.Contains(\"chips\"))\n",
    "    {\n",
    "        Console.WriteLine(menuItem);\n",
    "    }\n",
    "}"
   ]
  },
  {
   "cell_type": "code",
   "execution_count": 35,
   "metadata": {
    "dotnet_interactive": {
     "language": "csharp"
    },
    "polyglot_notebook": {
     "kernelName": "csharp"
    }
   },
   "outputs": [
    {
     "name": "stdout",
     "output_type": "stream",
     "text": [
      "System.Func`4[System.Int32,System.Int32,System.Int32,System.Boolean]\n"
     ]
    }
   ],
   "source": [
    "int fish = 4;\n",
    "int chips = 4;\n",
    "int qtyOfOrders = 45;\n",
    "\n",
    "bool CanOrder(int qtyOfOrders, int fish, int chips)\n",
    "{ \n",
    "    int requiredFish = qtyOfOrders * 1;\n",
    "    int requiredChips = qtyOfOrders * 2;\n",
    "\n",
    "    if (fish >= requiredFish && chips >= requiredChips){\n",
    "        return true; \n",
    "    }\n",
    "    else{\n",
    "        return false;\n",
    "    }\n",
    "    \n",
    " \n",
    "}\n",
    "Console.WriteLine(CanOrder)"
   ]
  }
 ],
 "metadata": {
  "kernelspec": {
   "display_name": ".NET (C#)",
   "language": "C#",
   "name": ".net-csharp"
  },
  "language_info": {
   "name": "polyglot-notebook"
  },
  "polyglot_notebook": {
   "kernelInfo": {
    "defaultKernelName": "csharp",
    "items": [
     {
      "aliases": [],
      "languageName": "csharp",
      "name": "csharp"
     }
    ]
   }
  }
 },
 "nbformat": 4,
 "nbformat_minor": 2
}
