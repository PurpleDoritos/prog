{
 "cells": [
  {
   "cell_type": "markdown",
   "metadata": {},
   "source": [
    "\n",
    "What is the problem with the listed code?\n",
    "\n",
    "\n",
    "1. int sum = 0;\n",
    "for(int i = 0; i < 10; i++) \n",
    "{\n",
    "  sum = sum + i;\n",
    "  Console.WriteLine(sum);\n",
    "}\n",
    "Console.WriteLine(i);\n"
   ]
  },
  {
   "cell_type": "markdown",
   "metadata": {},
   "source": [
    "- its an error because the last console.writeline should be int \"sum\" and not \"i\" because its not been declared"
   ]
  },
  {
   "cell_type": "markdown",
   "metadata": {},
   "source": [
    "2. if (1 != 2) \n",
    "{\n",
    "   boolean notEqual = true;\n",
    "}\n",
    "Console.WriteLine(notEqual);\n"
   ]
  },
  {
   "cell_type": "markdown",
   "metadata": {},
   "source": [
    "- its an error as well because the boolean notEqual has been declared inside the if else statement, and the inside of if else parameters is int not equal to another int that is a difference value. "
   ]
  },
  {
   "cell_type": "markdown",
   "metadata": {},
   "source": [
    "3. Map the parameters in the method declaration to the arguments in the method call\n",
    "\n",
    "\n",
    "int multiply(int a, int b)\n",
    "{\n",
    "  return a * b;\n",
    "}\n",
    "int result = multiply(5, 7);\n"
   ]
  },
  {
   "cell_type": "markdown",
   "metadata": {},
   "source": [
    "First the int \"multiply\" have 2 int a and b and does not have value for now.\n",
    "\n",
    "then another method is called return a multiplied with b value but still have not value in it.\n",
    "\n",
    "after last int \"result\" with the value of 5 and 7 as a and b "
   ]
  },
  {
   "cell_type": "markdown",
   "metadata": {},
   "source": [
    "4. Identify the problem in the code\n",
    "\n",
    "int GreaterThan1(int a, int b)\n",
    "{\n",
    "  if (a > b)\n",
    "     return true;\n",
    "  return \"false\";\n",
    "}\n"
   ]
  },
  {
   "cell_type": "markdown",
   "metadata": {},
   "source": [
    "int a and b does not declared yet."
   ]
  },
  {
   "cell_type": "markdown",
   "metadata": {},
   "source": [
    "5. What does this method call return?\n",
    "\n",
    "\"Lorem ipsum dolores sit amet\".Split(\" \");\n"
   ]
  },
  {
   "cell_type": "markdown",
   "metadata": {},
   "source": []
  }
 ],
 "metadata": {
  "kernelspec": {
   "display_name": ".NET (C#)",
   "language": "C#",
   "name": ".net-csharp"
  },
  "language_info": {
   "name": "polyglot-notebook"
  },
  "polyglot_notebook": {
   "kernelInfo": {
    "defaultKernelName": "csharp",
    "items": [
     {
      "aliases": [],
      "languageName": "csharp",
      "name": "csharp"
     }
    ]
   }
  }
 },
 "nbformat": 4,
 "nbformat_minor": 2
}
