{
 "cells": [
  {
   "cell_type": "code",
   "execution_count": 1,
   "metadata": {
    "dotnet_interactive": {
     "language": "csharp"
    },
    "polyglot_notebook": {
     "kernelName": "csharp"
    }
   },
   "outputs": [],
   "source": [
    "string name = \"Aio\";\n",
    "int programmingMarks = 90;\n",
    "int managementMarks = 70;\n",
    "int databasesMarks = 60;\n",
    "int accountingMarks = 45;\n",
    "\n"
   ]
  },
  {
   "cell_type": "code",
   "execution_count": 2,
   "metadata": {
    "dotnet_interactive": {
     "language": "csharp"
    },
    "polyglot_notebook": {
     "kernelName": "csharp"
    }
   },
   "outputs": [
    {
     "name": "stdout",
     "output_type": "stream",
     "text": [
      "265\n"
     ]
    }
   ],
   "source": [
    "int sumOfMarks = programmingMarks + managementMarks + databasesMarks + accountingMarks;\n",
    "\n",
    "Console.WriteLine(sumOfMarks)"
   ]
  },
  {
   "cell_type": "code",
   "execution_count": 14,
   "metadata": {
    "dotnet_interactive": {
     "language": "csharp"
    },
    "polyglot_notebook": {
     "kernelName": "csharp"
    }
   },
   "outputs": [
    {
     "name": "stdout",
     "output_type": "stream",
     "text": [
      "109\n"
     ]
    }
   ],
   "source": [
    "int averageOfMarks = sumOfMarks/4;\n",
    "Console.WriteLine(averageOfMarks)"
   ]
  },
  {
   "cell_type": "code",
   "execution_count": 26,
   "metadata": {
    "dotnet_interactive": {
     "language": "csharp"
    },
    "polyglot_notebook": {
     "kernelName": "csharp"
    }
   },
   "outputs": [
    {
     "name": "stdout",
     "output_type": "stream",
     "text": [
      "Congrats Aio!, you passed!\n"
     ]
    }
   ],
   "source": [
    "int aioHasPassed = 50;\n",
    "    if (aioHasPassed >= 50){\n",
    "        Console.WriteLine(\"Congrats Aio!, you passed!\");\n",
    "    }\n",
    "    else{\n",
    "        Console.WriteLine(\"You need to focus next school year.\");\n",
    "    }"
   ]
  },
  {
   "cell_type": "code",
   "execution_count": 1,
   "metadata": {
    "dotnet_interactive": {
     "language": "csharp"
    },
    "polyglot_notebook": {
     "kernelName": "csharp"
    }
   },
   "outputs": [
    {
     "name": "stdout",
     "output_type": "stream",
     "text": [
      "Aio got above 50 marks in 5 subjects.\n"
     ]
    }
   ],
   "source": [
    "\n",
    "        int[] marks = { 85, 92, 78, 95, 88 };\n",
    "        int count = CountOfCoursesAbove50(marks);\n",
    "\n",
    "    int CountOfCoursesAbove50(int[] marks)\n",
    "    {\n",
    "        int count = 0;\n",
    "\n",
    "        for (int i = 0; i < marks.Length; i++)\n",
    "        {\n",
    "            if (marks[i] > 50)\n",
    "            {\n",
    "                count++;\n",
    "            }\n",
    "        }\n",
    "\n",
    "        return count;\n",
    "    }\n",
    "\n",
    "        Console.WriteLine(\"Aio got above 50 marks in \" + count + \" subjects.\");"
   ]
  },
  {
   "cell_type": "markdown",
   "metadata": {},
   "source": [
    "Use an array to store the data and using a for loop count the number of subjects that Aio got above 50 in. \n",
    "\n",
    "Define a method that does this. The declaration begins:\n",
    "\n",
    " int CountOfCoursesAbove50(int[] marks)\n",
    "'"
   ]
  },
  {
   "cell_type": "code",
   "execution_count": 53,
   "metadata": {
    "dotnet_interactive": {
     "language": "csharp"
    },
    "polyglot_notebook": {
     "kernelName": "csharp"
    }
   },
   "outputs": [
    {
     "name": "stdout",
     "output_type": "stream",
     "text": [
      "75\n"
     ]
    }
   ],
   "source": [
    "int marks = 75;\n",
    "string grade = MarksToGrade(marks);\n",
    "\n",
    "\n",
    "    string MarksToGrade(int marks)\n",
    "    {\n",
    "        if (marks >= 90){\n",
    "            return \"A+\";\n",
    "        }\n",
    "        else {\n",
    "            return \"F\";\n",
    "        }\n",
    "    }\n",
    "    Console.WriteLine(marks);"
   ]
  }
 ],
 "metadata": {
  "kernelspec": {
   "display_name": ".NET (C#)",
   "language": "C#",
   "name": ".net-csharp"
  },
  "language_info": {
   "name": "polyglot-notebook"
  },
  "polyglot_notebook": {
   "kernelInfo": {
    "defaultKernelName": "csharp",
    "items": [
     {
      "aliases": [],
      "languageName": "csharp",
      "name": "csharp"
     }
    ]
   }
  }
 },
 "nbformat": 4,
 "nbformat_minor": 2
}
