{
 "cells": [
  {
   "cell_type": "markdown",
   "metadata": {},
   "source": [
    "1.  Name a major programming language that was invented in New Zealand. Name its creators. You can use  Google for this.\n",
    "\n",
    "- R (programming langauge)"
   ]
  },
  {
   "cell_type": "markdown",
   "metadata": {},
   "source": [
    "2. Is the language a compiled language or an interpreted language? Again, Google.\n",
    "\n",
    "- R is primarily an interpreted language for interactive use, but it can also compile code for performance when necessary."
   ]
  },
  {
   "cell_type": "markdown",
   "metadata": {},
   "source": [
    "3.  When you’re writing a program and trying to run it, at which point do syntax errors occur in C#? When you try to build (compile) the program or after you run it? (The name for the compiler in .NET is Roslyn. You may have seen this in error messages)\n",
    "\n",
    "- typos and missing brackets or syntax error\n"
   ]
  },
  {
   "cell_type": "code",
   "execution_count": 1,
   "metadata": {
    "dotnet_interactive": {
     "language": "csharp"
    },
    "polyglot_notebook": {
     "kernelName": "csharp"
    }
   },
   "outputs": [
    {
     "name": "stdout",
     "output_type": "stream",
     "text": [
      "hello\n"
     ]
    },
    {
     "ename": "Error",
     "evalue": "System.IndexOutOfRangeException: Index was outside the bounds of the array.\n   at Submission#2.<<Initialize>>d__0.MoveNext()\n--- End of stack trace from previous location ---\n   at Microsoft.CodeAnalysis.Scripting.ScriptExecutionState.RunSubmissionsAsync[TResult](ImmutableArray`1 precedingExecutors, Func`2 currentExecutor, StrongBox`1 exceptionHolderOpt, Func`2 catchExceptionOpt, CancellationToken cancellationToken)",
     "output_type": "error",
     "traceback": [
      "System.IndexOutOfRangeException: Index was outside the bounds of the array.\n",
      "   at Submission#2.<<Initialize>>d__0.MoveNext()\n",
      "--- End of stack trace from previous location ---\n",
      "   at Microsoft.CodeAnalysis.Scripting.ScriptExecutionState.RunSubmissionsAsync[TResult](ImmutableArray`1 precedingExecutors, Func`2 currentExecutor, StrongBox`1 exceptionHolderOpt, Func`2 catchExceptionOpt, CancellationToken cancellationToken)"
     ]
    }
   ],
   "source": [
    "int[] numbers = new int[4];\n",
    "Console.WriteLine(\"hello\");\n",
    "int item = numbers[500];\n",
    "Console.WriteLine(item);\n"
   ]
  },
  {
   "cell_type": "markdown",
   "metadata": {},
   "source": [
    "4. The listed program crashes after printing “hey” on the console. What kind of an error is this? Syntax, type or runtime error? Try running this bit of code.\n",
    "\n",
    "- syntax error, numbers variable does not have array data yet."
   ]
  },
  {
   "cell_type": "markdown",
   "metadata": {},
   "source": [
    "5. Identify the invalid variable declaration:\n",
    "a. int bar;\n",
    "b. int _var;\n",
    "c. string 123gh;\n",
    "\n",
    "\n",
    "- b and c"
   ]
  },
  {
   "cell_type": "markdown",
   "metadata": {},
   "source": [
    "6. What is a suitable data type for a whole number?\n",
    "a. string\n",
    "b. int\n",
    "c. float\n",
    "d. double\n",
    "\n",
    "- b. int"
   ]
  },
  {
   "cell_type": "markdown",
   "metadata": {},
   "source": [
    "7. Describe the parts in the following code and the explain each step\n",
    "\tint a = 45;\n",
    "\tint b = 4, c = 6;\n",
    "\n",
    " - a has been declared as value of 45 and b is value of 4 and c is value of 6."
   ]
  },
  {
   "cell_type": "markdown",
   "metadata": {},
   "source": [
    "8. Explain the listed code. A double is a double-precision number (64bit) with a decimal point while a float has single-precision (32bit).  Is the code correct?\n",
    "double g = 5.6f;\n",
    "\n",
    "- yes"
   ]
  },
  {
   "cell_type": "markdown",
   "metadata": {},
   "source": [
    "9. Explain the code, step by step\n",
    "int a = 5;\n",
    "a = a + 4;\n",
    "Console.WriteLine(a);\n",
    "\n",
    "- first a has been declared as value of 5 and then new variable has been set with a aritmetic method of addition and use the first variable a that value is 5 and + to 4 and then print the new variable a as the answer of 5 + 4."
   ]
  },
  {
   "cell_type": "markdown",
   "metadata": {},
   "source": [
    "10. Name the listed operators and the types of values/expressions they act on and the type of values they produce as a result:\n",
    "&& \n",
    "||\n",
    ">=, <=, <, >, ==, !=\n",
    "\n",
    "- && AND operand, produce a boolean values of (true or false)\n",
    "- || OR operand, produce a boolean values of (true or false)\n",
    "- >= (Greater than or equal to) operand, produce a boolean values of (true or false)\n",
    "- <= (Less than or equal to) operand, produce a boolean values of (true or false)\n",
    "- < (Less than) operand, produce a boolean values of (true or false)\n",
    "- > (Greater than) operand, produce a boolean values of (true or false)\n",
    "- == (Equal to) operand, produce a boolean values of (true or false)\n",
    "- != (Not Equal or inequality) operand, produce a boolean values of (true or false)"
   ]
  },
  {
   "cell_type": "markdown",
   "metadata": {},
   "source": [
    "11. What is the result of running the listed code? The argument for the call to the WriteLine method, is it an expression? What is its type?\n",
    "bool a = false;\n",
    "bool b = false;\n",
    "Console.WriteLine(!a && b);\n",
    "\n",
    "What is the result if you change the last line to \n",
    "\tConsole.WriteLine(!(a && b));\n",
    "\t\n",
    "Can you explain how the two lines are different?\n",
    "\n",
    "- it is a boolean expression\n",
    "- the output is the same it is, FALSE\n",
    "- first expresion a value is true but since it has an operand ! it negates into false value and the logical AND operator proceeds so a true and false will printed FALSE and for the second expression since it is both inside the parenthesis it will be the fist method to read since it is the same false and the negation is outside the parenthesis the code will read a and b value as same false so two false means true."
   ]
  },
  {
   "cell_type": "code",
   "execution_count": 8,
   "metadata": {
    "dotnet_interactive": {
     "language": "csharp"
    },
    "polyglot_notebook": {
     "kernelName": "csharp"
    }
   },
   "outputs": [
    {
     "name": "stdout",
     "output_type": "stream",
     "text": [
      "False\n"
     ]
    }
   ],
   "source": [
    "//12. What is the result of running the listed code?\n",
    "bool a = false;\n",
    "bool b = false;\n",
    "Console.WriteLine(!a && b);"
   ]
  },
  {
   "cell_type": "markdown",
   "metadata": {},
   "source": []
  },
  {
   "cell_type": "markdown",
   "metadata": {},
   "source": [
    "------- TASKS ------"
   ]
  },
  {
   "cell_type": "code",
   "execution_count": 19,
   "metadata": {},
   "outputs": [
    {
     "name": "stdout",
     "output_type": "stream",
     "text": [
      "Doppio: 0%\n",
      "Solo: 0%\n",
      "Latte: 0%\n",
      "Flat white: 0%\n",
      "Americano: 0%\n"
     ]
    }
   ],
   "source": [
    "double[] GSTrate = new double [] {4, 4, 5, 6, 4.5};\n",
    "string[] coffeeNames = new string [] {\"Doppio\", \"Solo\", \"Latte\", \"Flat white\", \"Americano\"};\n",
    "\n",
    "for(int i = 0; i < GSTrate.Length; i++)\n",
    "{\n",
    "    GSTrate[i]= 0;\n",
    "}\n",
    "\n",
    "for (int i = 0; i < coffeeNames.Length; i++)\n",
    "{\n",
    "    string x = coffeeNames[i];\n",
    "    double y = GSTrate[i];\n",
    "    Console.WriteLine($\"{x}: {y}%\");\n",
    "}\n"
   ]
  }
 ],
 "metadata": {
  "kernelspec": {
   "display_name": ".NET (C#)",
   "language": "C#",
   "name": ".net-csharp"
  },
  "language_info": {
   "name": "polyglot-notebook"
  },
  "polyglot_notebook": {
   "kernelInfo": {
    "defaultKernelName": "csharp",
    "items": [
     {
      "aliases": [],
      "languageName": "csharp",
      "name": "csharp"
     }
    ]
   }
  }
 },
 "nbformat": 4,
 "nbformat_minor": 2
}
