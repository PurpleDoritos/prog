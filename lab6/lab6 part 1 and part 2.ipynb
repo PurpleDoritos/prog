{
 "cells": [
  {
   "cell_type": "code",
   "execution_count": 1,
   "metadata": {
    "dotnet_interactive": {
     "language": "csharp"
    },
    "polyglot_notebook": {
     "kernelName": "csharp"
    }
   },
   "outputs": [],
   "source": [
    "int age = 42;"
   ]
  },
  {
   "cell_type": "code",
   "execution_count": 4,
   "metadata": {
    "dotnet_interactive": {
     "language": "csharp"
    },
    "polyglot_notebook": {
     "kernelName": "csharp"
    }
   },
   "outputs": [
    {
     "name": "stdout",
     "output_type": "stream",
     "text": [
      "Kai your initial balance is 1,000,000.00\n"
     ]
    }
   ],
   "source": [
    "string name = \"Kai\";\n",
    "double initialBalance = 1000000.0;\n",
    "double currentBalance = 300000000000.0;\n",
    "\n",
    "Console.WriteLine(name + \" your initial balance is $\" + initialBalance.ToString(\"N2\"));"
   ]
  },
  {
   "cell_type": "code",
   "execution_count": 6,
   "metadata": {
    "dotnet_interactive": {
     "language": "csharp"
    },
    "polyglot_notebook": {
     "kernelName": "csharp"
    }
   },
   "outputs": [
    {
     "name": "stdout",
     "output_type": "stream",
     "text": [
      "Kai your current balance is $300,000,000,000.00\n"
     ]
    }
   ],
   "source": [
    "Console.WriteLine(name + \" your current balance is $\" + currentBalance.ToString(\"N2\"));"
   ]
  },
  {
   "cell_type": "code",
   "execution_count": 12,
   "metadata": {
    "dotnet_interactive": {
     "language": "csharp"
    },
    "polyglot_notebook": {
     "kernelName": "csharp"
    }
   },
   "outputs": [
    {
     "name": "stdout",
     "output_type": "stream",
     "text": [
      "Kai is a teenager!\n"
     ]
    }
   ],
   "source": [
    "int kaiAge = 12;\n",
    "    if (kaiAge >= 19)\n",
    "    {\n",
    "        Console.WriteLine(name + \" is not a teenager!\");\n",
    "    }\n",
    "    else \n",
    "    {\n",
    "        Console.WriteLine(name + \" is a teenager!\");\n",
    "        \n",
    "    }"
   ]
  },
  {
   "cell_type": "code",
   "execution_count": 19,
   "metadata": {
    "dotnet_interactive": {
     "language": "csharp"
    },
    "polyglot_notebook": {
     "kernelName": "csharp"
    }
   },
   "outputs": [
    {
     "name": "stdout",
     "output_type": "stream",
     "text": [
      "vegetable\n"
     ]
    }
   ],
   "source": [
    "string kaiList(string products)\n",
    "{\n",
    "  switch (products)\n",
    "  {\n",
    "    case \"apple\":\n",
    "    case \"orange\":\n",
    "    case \"grapes\":\n",
    "    case \"strawberries\":\n",
    "        return \"fruit\";\n",
    "    case \"potato\":\n",
    "    case \"tomato\":\n",
    "        return \"vegetable\";\n",
    "    default:\n",
    "        return \"Unkown item\";\n",
    "        break;\n",
    "    \n",
    "  }\n",
    "\n",
    "}\n",
    "Console.WriteLine(kaiList(\"potato\"));"
   ]
  },
  {
   "cell_type": "code",
   "execution_count": 20,
   "metadata": {
    "dotnet_interactive": {
     "language": "csharp"
    },
    "polyglot_notebook": {
     "kernelName": "csharp"
    }
   },
   "outputs": [
    {
     "name": "stdout",
     "output_type": "stream",
     "text": [
      "Kai's apples\n",
      "Kai's apples\n",
      "Kai's apples\n",
      "Kai's apples\n",
      "Kai's apples\n",
      "Kai's apples\n",
      "Kai's apples\n",
      "Kai's apples\n",
      "Kai's apples\n",
      "Kai's apples\n",
      "Kai's apples\n",
      "Kai's apples\n",
      "Kai's apples\n",
      "Kai's apples\n",
      "Kai's apples\n",
      "Kai's apples\n",
      "Kai's apples\n",
      "Kai's apples\n",
      "Kai's apples\n",
      "Kai's apples\n",
      "Kai's apples\n",
      "Kai's apples\n",
      "Kai's apples\n",
      "Kai's apples\n",
      "Kai's apples\n",
      "Kai's apples\n",
      "Kai's apples\n",
      "Kai's apples\n",
      "Kai's apples\n",
      "Kai's apples\n",
      "Kai's apples\n",
      "Kai's apples\n",
      "Kai's apples\n",
      "Kai's apples\n",
      "Kai's apples\n",
      "Kai's apples\n",
      "Kai's apples\n",
      "Kai's apples\n",
      "Kai's apples\n",
      "Kai's apples\n",
      "Kai's apples\n",
      "Kai's apples\n",
      "Kai's apples\n",
      "Kai's apples\n",
      "Kai's apples\n",
      "Kai's apples\n",
      "Kai's apples\n",
      "Kai's apples\n",
      "Kai's apples\n",
      "Kai's apples\n",
      "Kai's apples\n",
      "Kai's apples\n",
      "Kai's apples\n",
      "Kai's apples\n",
      "Kai's apples\n",
      "Kai's apples\n",
      "Kai's apples\n",
      "Kai's apples\n",
      "Kai's apples\n",
      "Kai's apples\n",
      "Kai's apples\n",
      "Kai's apples\n",
      "Kai's apples\n",
      "Kai's apples\n",
      "Kai's apples\n",
      "Kai's apples\n",
      "Kai's apples\n",
      "Kai's apples\n",
      "Kai's apples\n",
      "Kai's apples\n",
      "Kai's apples\n",
      "Kai's apples\n",
      "Kai's apples\n",
      "Kai's apples\n",
      "Kai's apples\n",
      "Kai's apples\n",
      "Kai's apples\n",
      "Kai's apples\n",
      "Kai's apples\n",
      "Kai's apples\n",
      "Kai's apples\n",
      "Kai's apples\n",
      "Kai's apples\n",
      "Kai's apples\n",
      "Kai's apples\n",
      "Kai's apples\n",
      "Kai's apples\n",
      "Kai's apples\n",
      "Kai's apples\n",
      "Kai's apples\n",
      "Kai's apples\n",
      "Kai's apples\n",
      "Kai's apples\n",
      "Kai's apples\n",
      "Kai's apples\n",
      "Kai's apples\n",
      "Kai's apples\n",
      "Kai's apples\n",
      "Kai's apples\n",
      "Kai's apples\n"
     ]
    }
   ],
   "source": [
    "for (int i = 1; i <= 100; i++)\n",
    "    {\n",
    "        Console.WriteLine(\"Kai's apples\");\n",
    "    }"
   ]
  },
  {
   "cell_type": "code",
   "execution_count": 24,
   "metadata": {
    "dotnet_interactive": {
     "language": "csharp"
    },
    "polyglot_notebook": {
     "kernelName": "csharp"
    }
   },
   "outputs": [
    {
     "name": "stdout",
     "output_type": "stream",
     "text": [
      "Press any key to increment the counter.\n",
      "Press 'q' to quit.\n"
     ]
    },
    {
     "ename": "Error",
     "evalue": "System.InvalidOperationException: Cannot read keys when either application does not have a console or when console input has been redirected. Try Console.Read.\n   at System.ConsolePal.ReadKey(Boolean intercept)\n   at Submission#25.<<Initialize>>d__0.MoveNext()\n--- End of stack trace from previous location ---\n   at Microsoft.CodeAnalysis.Scripting.ScriptExecutionState.RunSubmissionsAsync[TResult](ImmutableArray`1 precedingExecutors, Func`2 currentExecutor, StrongBox`1 exceptionHolderOpt, Func`2 catchExceptionOpt, CancellationToken cancellationToken)",
     "output_type": "error",
     "traceback": [
      "System.InvalidOperationException: Cannot read keys when either application does not have a console or when console input has been redirected. Try Console.Read.\n",
      "   at System.ConsolePal.ReadKey(Boolean intercept)\n",
      "   at Submission#25.<<Initialize>>d__0.MoveNext()\n",
      "--- End of stack trace from previous location ---\n",
      "   at Microsoft.CodeAnalysis.Scripting.ScriptExecutionState.RunSubmissionsAsync[TResult](ImmutableArray`1 precedingExecutors, Func`2 currentExecutor, StrongBox`1 exceptionHolderOpt, Func`2 catchExceptionOpt, CancellationToken cancellationToken)"
     ]
    }
   ],
   "source": [
    "int counter = 0;\n",
    "\n",
    "            Console.WriteLine(\"Press any key to increment the counter.\");\n",
    "            Console.WriteLine(\"Press 'q' to quit.\");\n",
    "\n",
    "            while (true)\n",
    "            {\n",
    "                ConsoleKeyInfo keyInfo = Console.ReadKey(true); \n",
    "\n",
    "                if (keyInfo.Key == ConsoleKey.Q)\n",
    "                {\n",
    "                    break; \n",
    "                }\n",
    "                else\n",
    "                {\n",
    "                    counter++; \n",
    "                    Console.WriteLine($\"Counter: {counter}\");\n",
    "                }\n",
    "            }"
   ]
  },
  {
   "cell_type": "markdown",
   "metadata": {},
   "source": [
    "Kai has made some cider. He needs a program to determine if a customer is above 18 before he can sell the cider. Write a method that takes a person’s age and determines if it’s legal to sell to the customer .  Here’s a template to get you started\n",
    "\n",
    "bool IsDrinkingAge(int age) {\n",
    "   // This is a code comment. You need to complete the method body. The method body is the part of the method declaration within curly braces. This comment is in the method body.\n",
    "}"
   ]
  },
  {
   "cell_type": "code",
   "execution_count": 36,
   "metadata": {
    "dotnet_interactive": {
     "language": "csharp"
    },
    "polyglot_notebook": {
     "kernelName": "csharp"
    }
   },
   "outputs": [
    {
     "name": "stdout",
     "output_type": "stream",
     "text": [
      "Legal Age, Yes you can buy cider!\n",
      "True\n"
     ]
    }
   ],
   "source": [
    "int age = 21;\n",
    "\n",
    "        bool canBuyCider = IsDrinkingAge(age);\n",
    "\n",
    "        if (canBuyCider)\n",
    "        {\n",
    "            Console.WriteLine(\"Legal Age, Yes you can buy cider!\");\n",
    "        }\n",
    "        else\n",
    "        {\n",
    "            Console.WriteLine(\"Minor age, You cannot buy cider!\");\n",
    "        }\n",
    "\n",
    "        Console.WriteLine(canBuyCider);\n",
    "    \n",
    "bool IsDrinkingAge(int age)\n",
    "    {\n",
    "        return age >= 18;\n",
    "    }"
   ]
  },
  {
   "cell_type": "code",
   "execution_count": 12,
   "metadata": {
    "dotnet_interactive": {
     "language": "csharp"
    },
    "polyglot_notebook": {
     "kernelName": "csharp"
    }
   },
   "outputs": [],
   "source": [
    "\n",
    "    public class FizzyDrink\n",
    "    {\n",
    "        public string DrinkName { get; set; }\n",
    "        public decimal Price { get; set; }\n",
    "        public int Size { get; set; }\n",
    "\n",
    "        public FizzyDrink(string drinkName, decimal price, int size)\n",
    "        {\n",
    "            DrinkName = drinkName;\n",
    "            Price = price;\n",
    "            Size = size;\n",
    "        }\n",
    "    }\n",
    "\n",
    "    class Program\n",
    "    {\n",
    "        static void Main()\n",
    "        {\n",
    "       \n",
    "            FizzyDrink[] fizzyDrinks = new FizzyDrink[]\n",
    "            {\n",
    "                new FizzyDrink(\"Foxton Fizz\", 1.5m, 12),\n",
    "                new FizzyDrink(\"L&P\", 1.0m, 16),\n",
    "                new FizzyDrink(\"Fanta\", 1.25m, 20),\n",
    "                new FizzyDrink(\"Coke\", 1.25m, 20),\n",
    "                new FizzyDrink(\"Sprite\", 1.25m, 20)\n",
    "            };\n",
    "\n",
    "           \n",
    "            Console.WriteLine(\"Fizzy Drinks:\");\n",
    "            foreach (var drink in fizzyDrinks)\n",
    "            {\n",
    "                Console.WriteLine($\"Name: {drink.DrinkName}, Price: ${drink.Price}, Size: {drink.Size} oz\");\n",
    "            }\n",
    "        }\n",
    "    }\n"
   ]
  },
  {
   "cell_type": "code",
   "execution_count": 16,
   "metadata": {
    "dotnet_interactive": {
     "language": "csharp"
    },
    "polyglot_notebook": {
     "kernelName": "csharp"
    }
   },
   "outputs": [],
   "source": [
    "public class FizzyDrink\n",
    "    {\n",
    "        public string DrinkName { get; set; }\n",
    "        public decimal Price { get; set; }\n",
    "        public int Size { get; set; }\n",
    "\n",
    "        public FizzyDrink(string drinkName, decimal price, int size)\n",
    "        {\n",
    "            DrinkName = drinkName;\n",
    "            Price = price;\n",
    "            Size = size;\n",
    "        }\n",
    "    }"
   ]
  },
  {
   "cell_type": "code",
   "execution_count": 14,
   "metadata": {
    "dotnet_interactive": {
     "language": "csharp"
    },
    "polyglot_notebook": {
     "kernelName": "csharp"
    }
   },
   "outputs": [
    {
     "name": "stdout",
     "output_type": "stream",
     "text": [
      "List of Fizzy Drinks (Using a for loop):\n",
      "Name: Foxton Fizz, Price: $1.5, Size: 12 oz\n",
      "Name: L&P, Price: $1.0, Size: 16 oz\n",
      "Name: Fanta, Price: $1.25, Size: 20 oz\n",
      "Name: Coke, Price: $1.25, Size: 20 oz\n",
      "Name: Sprite, Price: $1.25, Size: 20 oz\n"
     ]
    }
   ],
   "source": [
    "FizzyDrink[] fizzyDrinks = new FizzyDrink[]\n",
    "            {\n",
    "                new FizzyDrink(\"Foxton Fizz\", 1.5m, 12),\n",
    "                new FizzyDrink(\"L&P\", 1.0m, 16),\n",
    "                new FizzyDrink(\"Fanta\", 1.25m, 20),\n",
    "                new FizzyDrink(\"Coke\", 1.25m, 20),\n",
    "                new FizzyDrink(\"Sprite\", 1.25m, 20)\n",
    "            };\n",
    "            Console.WriteLine(\"List of Fizzy Drinks (Using a for loop):\");\n",
    "            for (int i = 0; i < fizzyDrinks.Length; i++)\n",
    "            {\n",
    "                Console.WriteLine($\"Name: {fizzyDrinks[i].DrinkName}, Price: ${fizzyDrinks[i].Price}, Size: {fizzyDrinks[i].Size} oz\");\n",
    "            }"
   ]
  },
  {
   "cell_type": "code",
   "execution_count": 13,
   "metadata": {
    "dotnet_interactive": {
     "language": "csharp"
    },
    "polyglot_notebook": {
     "kernelName": "csharp"
    }
   },
   "outputs": [
    {
     "name": "stdout",
     "output_type": "stream",
     "text": [
      "\n",
      "List of Fizzy Drinks (Using a foreach loop):\n",
      "Name: Foxton Fizz, Price: $1.5, Size: 12 oz\n",
      "Name: L&P, Price: $1.0, Size: 16 oz\n",
      "Name: Fanta, Price: $1.25, Size: 20 oz\n",
      "Name: Coke, Price: $1.25, Size: 20 oz\n",
      "Name: Sprite, Price: $1.25, Size: 20 oz\n"
     ]
    }
   ],
   "source": [
    "\n",
    "            FizzyDrink[] fizzyDrinks = new FizzyDrink[]\n",
    "            {\n",
    "                new FizzyDrink(\"Foxton Fizz\", 1.5m, 12),\n",
    "                new FizzyDrink(\"L&P\", 1.0m, 16),\n",
    "                new FizzyDrink(\"Fanta\", 1.25m, 20),\n",
    "                new FizzyDrink(\"Coke\", 1.25m, 20),\n",
    "                new FizzyDrink(\"Sprite\", 1.25m, 20)\n",
    "            };\n",
    "\n",
    "            Console.WriteLine(\"\\nList of Fizzy Drinks (Using a foreach loop):\");\n",
    "            foreach (var drink in fizzyDrinks)\n",
    "            {\n",
    "                Console.WriteLine($\"Name: {drink.DrinkName}, Price: ${drink.Price}, Size: {drink.Size} oz\");\n",
    "            }"
   ]
  }
 ],
 "metadata": {
  "kernelspec": {
   "display_name": ".NET (C#)",
   "language": "C#",
   "name": ".net-csharp"
  },
  "language_info": {
   "name": "polyglot-notebook"
  },
  "polyglot_notebook": {
   "kernelInfo": {
    "defaultKernelName": "csharp",
    "items": [
     {
      "aliases": [],
      "languageName": "csharp",
      "name": "csharp"
     }
    ]
   }
  }
 },
 "nbformat": 4,
 "nbformat_minor": 2
}
